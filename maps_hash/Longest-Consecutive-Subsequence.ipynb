{
 "cells": [
  {
   "cell_type": "markdown",
   "metadata": {
    "graffitiCellId": "id_vhxf50c"
   },
   "source": [
    "### Problem Statement\n",
    "\n",
    "\n",
    "Given a list of integers that contain natural numbers in random order.  Write a program to find the longest possible sub sequence of consecutive numbers in the array. Return this subsequence in sorted order. \n",
    "\n",
    "*In other words, you have to return the sorted longest (sub) list of consecutive numbers present anywhere in the given list.* \n",
    "\n",
    "For example, given the list `5, 4, 7, 10, 1, 3, 55, 2`, the output should be `1, 2, 3, 4, 5`\n",
    "\n",
    "**Note** \n",
    "1. The solution must take O(n) time. *Can you think of using a dictionary here?*\n",
    "2. If two subsequences are of equal length, return the subsequence whose index of smallest element comes first.\n",
    "\n",
    "---\n",
    "\n",
    "### The Idea:\n",
    "Every element of the given `input_list` could be a part of some subsequence. Therefore, we need a way (using a dictionary) to keep track if an element has already been visited. Also, store length of a subsequence if it is maximum. For this purpose, we have to check in **forward** direction, if the `(element+1)` is available in the given dictionary, in a \"while\" loop. Similarly, we will check in **backward** direction for `(element-1)`, in another \"while\" loop. At last, if we have the smallest element and the length of the longest subsequence, we can return a **new** list starting from \"smallest element\" to \"smallest element + length\".\n",
    "\n",
    "The steps would be:\n",
    "\n",
    "\n",
    "1. Create a dictionary, such that the elements of input_list become the \"key\", and the corresponding index become the \"value\" in the dictionary. We are creating a dictionary because the lookup time is considered to be constant in a dictionary. \n",
    "\n",
    "\n",
    "2. For each `element` in the `input_list`, first mark it as visited in the dictionary\n",
    "\n",
    " - Check in forward direction, if the `(element+1)` is available. If yes, increment the length of subsequence\n",
    " \n",
    " - Check in backward direction, if the `(element-1)` is available. If yes, increment the length of subsequence\n",
    "\n",
    " - Keep a track of length of longest subsequence visited so far. For the longest subsequence, store the smallest element (say `start_element`) and its index as well.  \n",
    "\n",
    "\n",
    "3. Return a **new** list starting from `start_element` to `start_element + length`."
   ]
  },
  {
   "cell_type": "markdown",
   "metadata": {
    "graffitiCellId": "id_q492hrd"
   },
   "source": [
    "### Exercise - Write the function definition here"
   ]
  },
  {
   "cell_type": "code",
   "execution_count": 1,
   "metadata": {
    "graffitiCellId": "id_eaee7mz"
   },
   "outputs": [],
   "source": [
    "def longest_consecutive_subsequence(input_list):\n",
    "    \n",
    "    # Create a dictionary.\n",
    "    # Each element of the input_list would become a \"key\", and\n",
    "    # the corresponding index in the input_list would become the \"value\"\n",
    "    element_dict = dict()\n",
    "\n",
    "    # Traverse through the input_list, and populate the dictionary\n",
    "    # Time complexity = O(n) \n",
    "    for index, element in enumerate(input_list):\n",
    "        element_dict[element] = index\n",
    "\n",
    "    # Represents the length of longest subsequence\n",
    "    max_length = -1\n",
    "    \n",
    "    # Represents the index of smallest element in the longest subsequence\n",
    "    starts_at = -1  \n",
    "\n",
    "    # Traverse again - Time complexity = O(n) \n",
    "    for index, element in enumerate(input_list):\n",
    "\n",
    "        current_starts = index\n",
    "        element_dict[element] = -1         # Mark as visited\n",
    "\n",
    "        current_count = 1                  # length of the current subsequence\n",
    "\n",
    "        '''CHECK ONE ELEMENT FORWARD'''\n",
    "        current = element + 1              # `current` is the expected number\n",
    "\n",
    "        # check if the expected number is available (as a key) in the dictionary,\n",
    "        # and it has not been visited yet (i.e., value > 0)\n",
    "        # Time complexity: Constant time for checking a key and retrieving the value = O(1)\n",
    "        while current in element_dict and element_dict[current] > 0:\n",
    "            current_count += 1             # increment the length of subsequence \n",
    "            element_dict[current] = -1     # Mark as visited\n",
    "            current = current + 1          \n",
    "\n",
    "            \n",
    "        '''CHECK ONE ELEMENT BACKWARD'''\n",
    "        # Time complexity: Constant time for checking a key and retrieving the value = O(1)\n",
    "        current = element - 1             # `current` is the expected number\n",
    "\n",
    "        while current in element_dict and element_dict[current] > 0:    \n",
    "            current_starts = element_dict[current]         # index of smallest element in the current subsequence\n",
    "            current_count += 1                             # increment the length of subsequence \n",
    "            element_dict[current] = -1\n",
    "            current = current - 1\n",
    "\n",
    "        '''If length of current subsequence >= max length of previously visited subsequence'''\n",
    "        if current_count >= max_length:\n",
    "            if current_count == max_length and current_starts > starts_at:\n",
    "                continue\n",
    "            starts_at = current_starts            # index of smallest element in the current (longest so far) subsequence\n",
    "            max_length = current_count            # store the length of current (longest so far) subsequence\n",
    "\n",
    "\n",
    "    start_element = input_list[starts_at]          # smallest element in the longest subsequence\n",
    "\n",
    "    # return a NEW list starting from `start_element` to `(start_element + max_length)` \n",
    "    return [element for element in range(start_element, start_element + max_length)]"
   ]
  },
  {
   "cell_type": "markdown",
   "metadata": {
    "graffitiCellId": "id_7w3exwo"
   },
   "source": [
    "### Test - Let's test your function"
   ]
  },
  {
   "cell_type": "code",
   "execution_count": 2,
   "metadata": {
    "graffitiCellId": "id_hlznh6q"
   },
   "outputs": [],
   "source": [
    "def test_function(test_case):\n",
    "    output = longest_consecutive_subsequence(test_case[0])\n",
    "    if output == test_case[1]:\n",
    "        print(\"Pass\")\n",
    "    else:\n",
    "        print(\"Fail\")\n",
    "    "
   ]
  },
  {
   "cell_type": "code",
   "execution_count": 3,
   "metadata": {
    "graffitiCellId": "id_z2y7gsr"
   },
   "outputs": [
    {
     "name": "stdout",
     "output_type": "stream",
     "text": [
      "Pass\n"
     ]
    }
   ],
   "source": [
    "test_case_1 = [[5, 4, 7, 10, 1, 3, 55, 2], [1, 2, 3, 4, 5]]\n",
    "test_function(test_case_1)"
   ]
  },
  {
   "cell_type": "code",
   "execution_count": 4,
   "metadata": {
    "graffitiCellId": "id_a3yf5ol"
   },
   "outputs": [
    {
     "name": "stdout",
     "output_type": "stream",
     "text": [
      "Pass\n"
     ]
    }
   ],
   "source": [
    "test_case_2 = [[2, 12, 9, 16, 10, 5, 3, 20, 25, 11, 1, 8, 6 ], [8, 9, 10, 11, 12]]\n",
    "test_function(test_case_2)"
   ]
  },
  {
   "cell_type": "code",
   "execution_count": 5,
   "metadata": {
    "graffitiCellId": "id_u5rs0q7"
   },
   "outputs": [
    {
     "name": "stdout",
     "output_type": "stream",
     "text": [
      "Pass\n"
     ]
    }
   ],
   "source": [
    "test_case_3 = [[0, 1, 2, 3, 4], [0, 1, 2, 3, 4]]\n",
    "test_function(test_case_3)"
   ]
  },
  {
   "cell_type": "markdown",
   "metadata": {
    "graffitiCellId": "id_et1ek54"
   },
   "source": [
    "<span class=\"graffiti-highlight graffiti-id_et1ek54-id_r15x1vg\"><i></i><button>Show Solution</button></span>"
   ]
  }
 ],
 "metadata": {
  "graffiti": {
   "firstAuthorId": "10694620118",
   "id": "id_alotytm",
   "language": "EN"
  },
  "kernelspec": {
   "display_name": "Python 3",
   "language": "python",
   "name": "python3"
  },
  "language_info": {
   "codemirror_mode": {
    "name": "ipython",
    "version": 3
   },
   "file_extension": ".py",
   "mimetype": "text/x-python",
   "name": "python",
   "nbconvert_exporter": "python",
   "pygments_lexer": "ipython3",
   "version": "3.6.3"
  }
 },
 "nbformat": 4,
 "nbformat_minor": 2
}
