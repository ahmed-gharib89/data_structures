{
 "cells": [
  {
   "cell_type": "markdown",
   "metadata": {
    "graffitiCellId": "id_6y54we4"
   },
   "source": [
    "## Building a Stack in Python"
   ]
  },
  {
   "cell_type": "markdown",
   "metadata": {
    "graffitiCellId": "id_g1ksheq"
   },
   "source": [
    "Before we start let us reiterate they key components of a stack. A stack is a data structure that consists of two main operations: push and pop. A push is when you add an element to the **top of the stack** and a pop is when you remove an element from **the top of the stack**. Python 3.x conviently allows us to demonstate this functionality with a list. When you have a list such as [2,4,5,6] you can decide which end of the list is the bottom and the top of the stack respectivley. Once you decide that, you can use the append, pop or insert function to simulate a stack. We will choose the first element to be the bottom of our stack and therefore be using the append and pop functions to simulate it. Give it a try by implementing the function below!"
   ]
  },
  {
   "cell_type": "markdown",
   "metadata": {
    "graffitiCellId": "id_4lwqlbr"
   },
   "source": [
    "#### Try Building a Stack"
   ]
  },
  {
   "cell_type": "code",
   "execution_count": null,
   "metadata": {
    "collapsed": true,
    "graffitiCellId": "id_ophgl05"
   },
   "outputs": [],
   "source": [
    "class Stack:\n",
    "    def __init__(self):\n",
    "         # TODO: Initialize the Stack\n",
    "    \n",
    "    def size(self):\n",
    "         # TODO: Check the size of the Stack\n",
    "    \n",
    "    def push(self, item):\n",
    "         # TODO: Push item onto Stack\n",
    "\n",
    "    def pop(self):\n",
    "         # TODO: Pop item off of the Stack"
   ]
  },
  {
   "cell_type": "markdown",
   "metadata": {
    "graffitiCellId": "id_kryqy03"
   },
   "source": [
    "#### Test the Stack"
   ]
  },
  {
   "cell_type": "code",
   "execution_count": 1,
   "metadata": {
    "graffitiCellId": "id_12jzlqk"
   },
   "outputs": [
    {
     "ename": "NameError",
     "evalue": "name 'Stack' is not defined",
     "output_type": "error",
     "traceback": [
      "\u001b[0;31m---------------------------------------------------------------------------\u001b[0m",
      "\u001b[0;31mNameError\u001b[0m                                 Traceback (most recent call last)",
      "\u001b[0;32m<ipython-input-1-161b6dd35e6f>\u001b[0m in \u001b[0;36m<module>\u001b[0;34m()\u001b[0m\n\u001b[0;32m----> 1\u001b[0;31m \u001b[0mMyStack\u001b[0m \u001b[0;34m=\u001b[0m \u001b[0mStack\u001b[0m\u001b[0;34m(\u001b[0m\u001b[0;34m)\u001b[0m\u001b[0;34m\u001b[0m\u001b[0m\n\u001b[0m\u001b[1;32m      2\u001b[0m \u001b[0;34m\u001b[0m\u001b[0m\n\u001b[1;32m      3\u001b[0m \u001b[0mMyStack\u001b[0m\u001b[0;34m.\u001b[0m\u001b[0mpush\u001b[0m\u001b[0;34m(\u001b[0m\u001b[0;34m\"Web Page 1\"\u001b[0m\u001b[0;34m)\u001b[0m\u001b[0;34m\u001b[0m\u001b[0m\n\u001b[1;32m      4\u001b[0m \u001b[0mMyStack\u001b[0m\u001b[0;34m.\u001b[0m\u001b[0mpush\u001b[0m\u001b[0;34m(\u001b[0m\u001b[0;34m\"Web Page 2\"\u001b[0m\u001b[0;34m)\u001b[0m\u001b[0;34m\u001b[0m\u001b[0m\n\u001b[1;32m      5\u001b[0m \u001b[0mMyStack\u001b[0m\u001b[0;34m.\u001b[0m\u001b[0mpush\u001b[0m\u001b[0;34m(\u001b[0m\u001b[0;34m\"Web Page 3\"\u001b[0m\u001b[0;34m)\u001b[0m\u001b[0;34m\u001b[0m\u001b[0m\n",
      "\u001b[0;31mNameError\u001b[0m: name 'Stack' is not defined"
     ]
    }
   ],
   "source": [
    "MyStack = Stack()\n",
    "\n",
    "MyStack.push(\"Web Page 1\")\n",
    "MyStack.push(\"Web Page 2\")\n",
    "MyStack.push(\"Web Page 3\")\n",
    "\n",
    "print (MyStack.items)\n",
    "\n",
    "MyStack.pop()\n",
    "MyStack.pop()\n",
    "\n",
    "print (\"Pass\" if (MyStack.items[0] == 'Web Page 1') else \"Fail\")\n",
    "\n",
    "MyStack.pop()\n",
    "\n",
    "print (\"Pass\" if (MyStack.pop() == None) else \"Fail\")"
   ]
  },
  {
   "cell_type": "markdown",
   "metadata": {
    "graffitiCellId": "id_3l78doc"
   },
   "source": [
    "<span class=\"graffiti-highlight graffiti-id_3l78doc-id_l2kcjcz\"><i></i><button>Hide Solution</button></span>"
   ]
  },
  {
   "cell_type": "code",
   "execution_count": null,
   "metadata": {
    "graffitiCellId": "id_l2kcjcz"
   },
   "outputs": [],
   "source": [
    "# Solution\n",
    "\n",
    "class Stack:\n",
    "    def __init__(self):\n",
    "        self.items = []\n",
    "    \n",
    "    def size(self):\n",
    "        return len(self.items)\n",
    "    \n",
    "    def push(self, item):\n",
    "        self.items.append(item)\n",
    "\n",
    "    def pop(self):\n",
    "        if self.size()==0:\n",
    "            return None\n",
    "        else:\n",
    "            return self.items.pop()\n",
    "        \n",
    "MyStack = Stack()\n",
    "\n",
    "MyStack.push(\"Web Page 1\")\n",
    "MyStack.push(\"Web Page 2\")\n",
    "MyStack.push(\"Web Page 3\")\n",
    "\n",
    "print (MyStack.items)\n",
    "\n",
    "MyStack.pop()\n",
    "MyStack.pop()\n",
    "\n",
    "print (\"Pass\" if (MyStack.items[0] == 'Web Page 1') else \"Fail\")\n",
    "\n",
    "MyStack.pop()\n",
    "\n",
    "print (\"Pass\" if (MyStack.pop() == None) else \"Fail\")# Solution\n",
    "\n",
    "class Stack:\n",
    "    def __init__(self):\n",
    "        self.items = []\n",
    "    \n",
    "    def size(self):\n",
    "        return len(self.items)\n",
    "    \n",
    "    def push(self, item):\n",
    "        self.items.append(item)\n",
    "\n",
    "    def pop(self):\n",
    "        if self.size()==0:\n",
    "            return None\n",
    "        else:\n",
    "            return self.items.pop()\n",
    "        \n",
    "MyStack = Stack()\n",
    "\n",
    "MyStack.push(\"Web Page 1\")\n",
    "MyStack.push(\"Web Page 2\")\n",
    "MyStack.push(\"Web Page 3\")\n",
    "\n",
    "print (MyStack.items)\n",
    "\n",
    "MyStack.pop()\n",
    "MyStack.pop()\n",
    "\n",
    "print (\"Pass\" if (MyStack.items[0] == 'Web Page 1') else \"Fail\")\n",
    "\n",
    "MyStack.pop()\n",
    "\n",
    "print (\"Pass\" if (MyStack.pop() == None) else \"Fail\")# Solution\n",
    "\n",
    "class Stack:\n",
    "    def __init__(self):\n",
    "        self.items = []\n",
    "    \n",
    "    def size(self):\n",
    "        return len(self.items)\n",
    "    \n",
    "    def push(self, item):\n",
    "        self.items.append(item)\n",
    "\n",
    "    def pop(self):\n",
    "        if self.size()==0:\n",
    "            return None\n",
    "        else:\n",
    "            return self.items.pop()\n",
    "        \n",
    "MyStack = Stack()\n",
    "\n",
    "MyStack.push(\"Web Page 1\")\n",
    "MyStack.push(\"Web Page 2\")\n",
    "MyStack.push(\"Web Page 3\")\n",
    "\n",
    "print (MyStack.items)\n",
    "\n",
    "MyStack.pop()\n",
    "MyStack.pop()\n",
    "\n",
    "print (\"Pass\" if (MyStack.items[0] == 'Web Page 1') else \"Fail\")\n",
    "\n",
    "MyStack.pop()\n",
    "\n",
    "print (\"Pass\" if (MyStack.pop() == None) else \"Fail\")\n"
   ]
  }
 ],
 "metadata": {
  "graffiti": {
   "firstAuthorId": "10694620118",
   "id": "id_hlxplqn",
   "language": "EN"
  },
  "kernelspec": {
   "display_name": "Python 3",
   "language": "python",
   "name": "python3"
  },
  "language_info": {
   "codemirror_mode": {
    "name": "ipython",
    "version": 3
   },
   "file_extension": ".py",
   "mimetype": "text/x-python",
   "name": "python",
   "nbconvert_exporter": "python",
   "pygments_lexer": "ipython3",
   "version": "3.6.3"
  }
 },
 "nbformat": 4,
 "nbformat_minor": 2
}
