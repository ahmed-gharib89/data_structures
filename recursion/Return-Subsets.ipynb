{
 "cells": [
  {
   "cell_type": "markdown",
   "metadata": {
    "graffitiCellId": "id_46ikwkw"
   },
   "source": [
    "### Problem Statement\n",
    "\n",
    "\n",
    "Given an integer array, find and return all the subsets of the array.\n",
    "The order of subsets in the output array is not important. However the order of elements in a particular subset should remain the same as in the input array.\n",
    "\n",
    "**Note**: \n",
    "- An empty set will be represented by an empty list.\n",
    "- If there are repeat integers, each occurrence must be treated as a separate entity.\n",
    "\n",
    "**Example 1**\n",
    "\n",
    "```\n",
    "arr = [9, 9]\n",
    "\n",
    "output = [[],\n",
    "          [9],\n",
    "          [9],\n",
    "          [9, 9]]\n",
    "```\n",
    "\n",
    "**Example 2**\n",
    "\n",
    "```\n",
    "arr = [9, 12, 15]\n",
    "\n",
    "output =  [[],\n",
    "           [15],\n",
    "           [12],\n",
    "           [12, 15],\n",
    "           [9],\n",
    "           [9, 15],\n",
    "           [9, 12],\n",
    "           [9, 12, 15]]\n",
    "```"
   ]
  },
  {
   "cell_type": "code",
   "execution_count": 17,
   "metadata": {
    "graffitiCellId": "id_ednyqq0"
   },
   "outputs": [],
   "source": [
    "def subsets(arr):\n",
    "    \"\"\"\n",
    "    :param: arr - input integer array\n",
    "    Return - list of lists (two dimensional array) where each list represents a subset\n",
    "    TODO: complete this method to return subsets of an array\n",
    "    \"\"\"\n",
    "\n",
    "    return return_subsets(arr, 0)\n",
    "\n",
    "def return_subsets(arr, index):\n",
    "    if index >= len(arr):\n",
    "        return [[]]\n",
    "\n",
    "    small_output = return_subsets(arr, index + 1)\n",
    "    print(f'small_output{small_output}')\n",
    "\n",
    "    output = list()\n",
    "    # append existing subsets\n",
    "    for element in small_output:\n",
    "        output.append(element)\n",
    "        print(f'element{element}')\n",
    "\n",
    "    # add current elements to existing subsets and add them to the output\n",
    "    for element in small_output:\n",
    "        current = list()\n",
    "        current.append(arr[index])\n",
    "        current.extend(element)\n",
    "        output.append(current)\n",
    "        print(f'current{current}')\n",
    "        print(f'output{output}')\n",
    "    return output"
   ]
  },
  {
   "cell_type": "markdown",
   "metadata": {
    "graffitiCellId": "id_u30cq9y"
   },
   "source": [
    "<span class=\"graffiti-highlight graffiti-id_u30cq9y-id_2p8ft48\"><i></i><button>Show Solution</button></span>"
   ]
  },
  {
   "cell_type": "code",
   "execution_count": 18,
   "metadata": {
    "graffitiCellId": "id_lov2dw6"
   },
   "outputs": [],
   "source": [
    "def test_function(test_case):\n",
    "    arr = test_case[0]\n",
    "    solution = test_case[1]\n",
    "    \n",
    "    output = subsets(arr)\n",
    "        \n",
    "    output.sort()\n",
    "    solution.sort()\n",
    "    \n",
    "    if output == solution:\n",
    "        print(\"Pass\")\n",
    "    else:\n",
    "        print(\"Fail\")    "
   ]
  },
  {
   "cell_type": "code",
   "execution_count": 19,
   "metadata": {
    "graffitiCellId": "id_vtr8t48"
   },
   "outputs": [
    {
     "name": "stdout",
     "output_type": "stream",
     "text": [
      "small_output[[]]\n",
      "element[]\n",
      "current[9]\n",
      "output[[], [9]]\n",
      "Pass\n"
     ]
    }
   ],
   "source": [
    "arr = [9]\n",
    "solution = [[], [9]]\n",
    "\n",
    "test_case = [arr, solution]\n",
    "test_function(test_case)"
   ]
  },
  {
   "cell_type": "code",
   "execution_count": 20,
   "metadata": {
    "graffitiCellId": "id_hox5lyf"
   },
   "outputs": [
    {
     "name": "stdout",
     "output_type": "stream",
     "text": [
      "small_output[[]]\n",
      "element[]\n",
      "current[7]\n",
      "output[[], [7]]\n",
      "small_output[[], [7]]\n",
      "element[]\n",
      "element[7]\n",
      "current[5]\n",
      "output[[], [7], [5]]\n",
      "current[5, 7]\n",
      "output[[], [7], [5], [5, 7]]\n",
      "Pass\n"
     ]
    }
   ],
   "source": [
    "arr = [5, 7]\n",
    "solution = [[], [7], [5], [5, 7]]\n",
    "test_case = [arr, solution]\n",
    "test_function(test_case)"
   ]
  },
  {
   "cell_type": "code",
   "execution_count": 21,
   "metadata": {
    "graffitiCellId": "id_ufx2e38"
   },
   "outputs": [
    {
     "name": "stdout",
     "output_type": "stream",
     "text": [
      "small_output[[]]\n",
      "element[]\n",
      "current[15]\n",
      "output[[], [15]]\n",
      "small_output[[], [15]]\n",
      "element[]\n",
      "element[15]\n",
      "current[12]\n",
      "output[[], [15], [12]]\n",
      "current[12, 15]\n",
      "output[[], [15], [12], [12, 15]]\n",
      "small_output[[], [15], [12], [12, 15]]\n",
      "element[]\n",
      "element[15]\n",
      "element[12]\n",
      "element[12, 15]\n",
      "current[9]\n",
      "output[[], [15], [12], [12, 15], [9]]\n",
      "current[9, 15]\n",
      "output[[], [15], [12], [12, 15], [9], [9, 15]]\n",
      "current[9, 12]\n",
      "output[[], [15], [12], [12, 15], [9], [9, 15], [9, 12]]\n",
      "current[9, 12, 15]\n",
      "output[[], [15], [12], [12, 15], [9], [9, 15], [9, 12], [9, 12, 15]]\n",
      "Pass\n"
     ]
    }
   ],
   "source": [
    "arr = [9, 12, 15]\n",
    "solution = [[], [15], [12], [12, 15], [9], [9, 15], [9, 12], [9, 12, 15]]\n",
    "\n",
    "test_case = [arr, solution]\n",
    "test_function(test_case)"
   ]
  },
  {
   "cell_type": "code",
   "execution_count": 22,
   "metadata": {
    "graffitiCellId": "id_4h3wfx7"
   },
   "outputs": [
    {
     "name": "stdout",
     "output_type": "stream",
     "text": [
      "small_output[[]]\n",
      "element[]\n",
      "current[8]\n",
      "output[[], [8]]\n",
      "small_output[[], [8]]\n",
      "element[]\n",
      "element[8]\n",
      "current[9]\n",
      "output[[], [8], [9]]\n",
      "current[9, 8]\n",
      "output[[], [8], [9], [9, 8]]\n",
      "small_output[[], [8], [9], [9, 8]]\n",
      "element[]\n",
      "element[8]\n",
      "element[9]\n",
      "element[9, 8]\n",
      "current[8]\n",
      "output[[], [8], [9], [9, 8], [8]]\n",
      "current[8, 8]\n",
      "output[[], [8], [9], [9, 8], [8], [8, 8]]\n",
      "current[8, 9]\n",
      "output[[], [8], [9], [9, 8], [8], [8, 8], [8, 9]]\n",
      "current[8, 9, 8]\n",
      "output[[], [8], [9], [9, 8], [8], [8, 8], [8, 9], [8, 9, 8]]\n",
      "small_output[[], [8], [9], [9, 8], [8], [8, 8], [8, 9], [8, 9, 8]]\n",
      "element[]\n",
      "element[8]\n",
      "element[9]\n",
      "element[9, 8]\n",
      "element[8]\n",
      "element[8, 8]\n",
      "element[8, 9]\n",
      "element[8, 9, 8]\n",
      "current[9]\n",
      "output[[], [8], [9], [9, 8], [8], [8, 8], [8, 9], [8, 9, 8], [9]]\n",
      "current[9, 8]\n",
      "output[[], [8], [9], [9, 8], [8], [8, 8], [8, 9], [8, 9, 8], [9], [9, 8]]\n",
      "current[9, 9]\n",
      "output[[], [8], [9], [9, 8], [8], [8, 8], [8, 9], [8, 9, 8], [9], [9, 8], [9, 9]]\n",
      "current[9, 9, 8]\n",
      "output[[], [8], [9], [9, 8], [8], [8, 8], [8, 9], [8, 9, 8], [9], [9, 8], [9, 9], [9, 9, 8]]\n",
      "current[9, 8]\n",
      "output[[], [8], [9], [9, 8], [8], [8, 8], [8, 9], [8, 9, 8], [9], [9, 8], [9, 9], [9, 9, 8], [9, 8]]\n",
      "current[9, 8, 8]\n",
      "output[[], [8], [9], [9, 8], [8], [8, 8], [8, 9], [8, 9, 8], [9], [9, 8], [9, 9], [9, 9, 8], [9, 8], [9, 8, 8]]\n",
      "current[9, 8, 9]\n",
      "output[[], [8], [9], [9, 8], [8], [8, 8], [8, 9], [8, 9, 8], [9], [9, 8], [9, 9], [9, 9, 8], [9, 8], [9, 8, 8], [9, 8, 9]]\n",
      "current[9, 8, 9, 8]\n",
      "output[[], [8], [9], [9, 8], [8], [8, 8], [8, 9], [8, 9, 8], [9], [9, 8], [9, 9], [9, 9, 8], [9, 8], [9, 8, 8], [9, 8, 9], [9, 8, 9, 8]]\n",
      "Pass\n"
     ]
    }
   ],
   "source": [
    "arr = [9, 8, 9, 8]\n",
    "solution = [[],\n",
    "[8],\n",
    "[9],\n",
    "[9, 8],\n",
    "[8],\n",
    "[8, 8],\n",
    "[8, 9],\n",
    "[8, 9, 8],\n",
    "[9],\n",
    "[9, 8],\n",
    "[9, 9],\n",
    "[9, 9, 8],\n",
    "[9, 8],\n",
    "[9, 8, 8],\n",
    "[9, 8, 9],\n",
    "[9, 8, 9, 8]]\n",
    "\n",
    "test_case = [arr, solution]\n",
    "test_function(test_case)"
   ]
  },
  {
   "cell_type": "code",
   "execution_count": null,
   "metadata": {
    "graffitiCellId": "id_u4n1u9u"
   },
   "outputs": [],
   "source": []
  }
 ],
 "metadata": {
  "graffiti": {
   "firstAuthorId": "dev",
   "id": "id_0z6x8e1",
   "language": "EN"
  },
  "kernelspec": {
   "display_name": "Python 3",
   "language": "python",
   "name": "python3"
  },
  "language_info": {
   "codemirror_mode": {
    "name": "ipython",
    "version": 3
   },
   "file_extension": ".py",
   "mimetype": "text/x-python",
   "name": "python",
   "nbconvert_exporter": "python",
   "pygments_lexer": "ipython3",
   "version": "3.6.3"
  }
 },
 "nbformat": 4,
 "nbformat_minor": 2
}
