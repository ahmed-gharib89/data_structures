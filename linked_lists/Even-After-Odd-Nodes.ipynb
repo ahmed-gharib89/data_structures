{
 "cells": [
  {
   "cell_type": "markdown",
   "metadata": {
    "graffitiCellId": "id_ow7e8a4"
   },
   "source": [
    "### Problem Statement\n",
    "\n",
    "Given a linked list with integer data, arrange the elements in such a manner that all nodes with even numbers are placed after odd numbers. **Do not create any new nodes and avoid using any other data structure. The relative order of even and odd elements must not change.** \n",
    "\n",
    "**Example:**\n",
    "* `linked list = 1 2 3 4 5 6`\n",
    "* `output = 1 3 5 2 4 6`"
   ]
  },
  {
   "cell_type": "code",
   "execution_count": 1,
   "metadata": {
    "graffitiCellId": "id_7vmjo6u"
   },
   "outputs": [],
   "source": [
    "class Node:\n",
    "    def __init__(self, data):\n",
    "        self.data = data\n",
    "        self.next = None"
   ]
  },
  {
   "cell_type": "markdown",
   "metadata": {
    "graffitiCellId": "id_kefqagf"
   },
   "source": [
    "### Exercise - Write the function definition here\n"
   ]
  },
  {
   "cell_type": "code",
   "execution_count": 2,
   "metadata": {
    "graffitiCellId": "id_hhuh98d"
   },
   "outputs": [],
   "source": [
    "def even_after_odd(head):\n",
    "    \"\"\"\n",
    "    :param - head - head of linked list\n",
    "    return - updated list with all even elements are odd elements\n",
    "    \"\"\"\n",
    "    \n",
    "    if head is None:\n",
    "        return head\n",
    "    \n",
    "    # helper references\n",
    "    # For even sublist\n",
    "    even_head = None\n",
    "    even_tail = None\n",
    "    \n",
    "    # For odd sublist\n",
    "    odd_head = None\n",
    "    odd_tail = None\n",
    "    \n",
    "    # the current node\n",
    "    current = head\n",
    "    \n",
    "    # Loop until there are nodes avaiable in the linkedlist\n",
    "    # Current will be updated at the end of each iteration\n",
    "    while current:\n",
    "        \n",
    "        # Next node represents the next node with respect to the current node\n",
    "        next_node = current.next\n",
    "        \n",
    "        # Check if the value of the current node either odd or even\n",
    "        if current.data % 2 == 0:\n",
    "            \n",
    "            # then update the even head if it is none otherwise the value will be for head.next\n",
    "            if even_head is None:\n",
    "                even_head = current\n",
    "                even_tail = even_head\n",
    "            \n",
    "            else:\n",
    "                even_tail.next = current\n",
    "                even_tail = even_tail.next\n",
    "        \n",
    "        # Else if it was odd\n",
    "        else:\n",
    "            if odd_head is None:\n",
    "                odd_head = current\n",
    "                odd_tail = odd_head\n",
    "            else:\n",
    "                \n",
    "                # Append the value to the tail of the odd sublist\n",
    "                odd_tail.next = current\n",
    "                odd_tail = odd_tail.next\n",
    "                \n",
    "        # We are updating the current next (None) to be the next of the new current updated below it\n",
    "        current_next = None\n",
    "        # A new current node which is the next of the previous current\n",
    "        current = next_node\n",
    "        \n",
    "    # Special case when there are no odd\n",
    "    if odd_head is None:\n",
    "        return even_head\n",
    "    \n",
    "    # Lastly append the even sublist to the end of the odd sublist \n",
    "    # bt appending the head of the even with its next values which is the rest of the list\n",
    "    odd_tail.next = even_head\n",
    "    \n",
    "    return odd_head\n"
   ]
  },
  {
   "cell_type": "markdown",
   "metadata": {
    "graffitiCellId": "id_xpuflcm"
   },
   "source": [
    "<span class=\"graffiti-highlight graffiti-id_xpuflcm-id_9q4n7o8\"><i></i><button>Show Solution</button></span>"
   ]
  },
  {
   "cell_type": "markdown",
   "metadata": {
    "graffitiCellId": "id_m63s5ow"
   },
   "source": [
    "### Test - Let's test your function"
   ]
  },
  {
   "cell_type": "code",
   "execution_count": 3,
   "metadata": {
    "graffitiCellId": "id_9q4n7o8"
   },
   "outputs": [],
   "source": [
    "\"\"\"\n",
    "parameter: - head of the given linked list\n",
    "return: - head of the updated list with all even elements placed after odd elements\n",
    "\"\"\"\n",
    "#--------------------------------------------------#\n",
    "'''\n",
    "The Idea: Traverse the given LinkedList, and build two sub-lists: EVEN and ODD. \n",
    "For this purpose, we will use four helper references, that denotes starting and \n",
    "current ending of EVEN and ODD sub-list respectively. \n",
    "\n",
    "1. For each Node in the LinkedList, check if its data is even/odd. \n",
    "Change the \"next\" reference (pointer) of each Node, based on the following rules:\n",
    " - First even valued Node will be referenced by head of EVEN sub-list\n",
    " - Subsequent even valued Node will be appended to the tail of EVEN sub-list\n",
    "\n",
    " - First odd valued Node will be referenced by head of ODD sub-list\n",
    " - Subsequent odd valued Node will be appended to the tail of ODD sub-list\n",
    " \n",
    "2. After the loop, append the EVEN sub-list to the tail of ODD sub-list.\n",
    "'''\n",
    "#--------------------------------------------------#\n",
    "def even_after_odd(head):\n",
    "    \n",
    "    if head is None:\n",
    "        return head\n",
    "    \n",
    "    # Helper references\n",
    "    ''' `even_head` and `even_tail` represents the starting and current ending of the \"EVEN\" sub-list '''\n",
    "    even_head = None                    \n",
    "    even_tail = None\n",
    "    \n",
    "    ''' `odd_head` and `odd_tail` represents the starting and current ending of the \"ODD\" sub-list '''\n",
    "    odd_head = None\n",
    "    odd_tail = None\n",
    "    \n",
    "    current = head                  # <-- \"current\" represents the current Node. \n",
    "    \n",
    "    # Loop untill there are Nodes available in the LinkedList\n",
    "    while current:                  # <-- \"current\" will be updated at the end of each iteration\n",
    "        \n",
    "        next_node = current.next    # <-- \"next_node\" represents the next Node w.r.t. the current Node\n",
    "        \n",
    "        if current.data % 2 == 0:   # <-- current Node is even\n",
    "            \n",
    "            # Below \n",
    "            if even_head is None:   # <-- Make the current Node as the starting Node of EVEN sub-list\n",
    "                even_head = current     # `even_head` will now point where `current` is already pointing\n",
    "                even_tail = even_head     \n",
    "            else:                   # <-- Append the current even node to the tail of EVEN sub-list \n",
    "                even_tail.next = current\n",
    "                even_tail = even_tail.next\n",
    "        else:\n",
    "            if odd_head is None:    # <-- Make the current Node as the starting Node of ODD sub-list\n",
    "                odd_head = current\n",
    "                odd_tail = odd_head\n",
    "            else:                   # <-- Append the current odd node to the tail of ODD sub-list \n",
    "                odd_tail.next = current\n",
    "                odd_tail = odd_tail.next\n",
    "        current.next = None\n",
    "        current = next_node         # <-- Update \"head\" Node, for next iteration\n",
    "    \n",
    "    if odd_head is None:            # <-- Special case, when there are no odd Nodes \n",
    "        return even_head\n",
    "\n",
    "    odd_tail.next = even_head       # <-- Append the EVEN sub-list to the tail of ODD sub-list\n",
    "    \n",
    "    return odd_head"
   ]
  },
  {
   "cell_type": "code",
   "execution_count": 4,
   "metadata": {
    "graffitiCellId": "id_u1fjo92"
   },
   "outputs": [],
   "source": [
    "# helper functions for testing purpose\n",
    "def create_linked_list(arr):\n",
    "    if len(arr)==0:\n",
    "        return None\n",
    "    head = Node(arr[0])\n",
    "    tail = head\n",
    "    for data in arr[1:]:\n",
    "        tail.next = Node(data)\n",
    "        tail = tail.next\n",
    "    return head\n",
    "\n",
    "def print_linked_list(head):\n",
    "    while head:\n",
    "        print(head.data, end=' ')\n",
    "        head = head.next\n",
    "    print()"
   ]
  },
  {
   "cell_type": "code",
   "execution_count": 5,
   "metadata": {
    "graffitiCellId": "id_c1r40y6"
   },
   "outputs": [],
   "source": [
    "def test_function(test_case):\n",
    "    head = test_case[0]\n",
    "    solution = test_case[1]\n",
    "    \n",
    "    node_tracker = dict({})\n",
    "    node_tracker['nodes'] = list()\n",
    "    temp = head\n",
    "    while temp:\n",
    "        node_tracker['nodes'].append(temp)\n",
    "        temp = temp.next\n",
    "\n",
    "    head = even_after_odd(head)    \n",
    "    temp = head\n",
    "    index = 0\n",
    "    try:\n",
    "        while temp:\n",
    "            if temp.data != solution[index] or temp not in node_tracker['nodes']:\n",
    "                print(\"Fail\")\n",
    "                return\n",
    "            temp = temp.next\n",
    "            index += 1\n",
    "        print(\"Pass\")            \n",
    "    except Exception as e:\n",
    "        print(\"Fail\")"
   ]
  },
  {
   "cell_type": "code",
   "execution_count": 6,
   "metadata": {
    "graffitiCellId": "id_g689uo0"
   },
   "outputs": [
    {
     "name": "stdout",
     "output_type": "stream",
     "text": [
      "Pass\n"
     ]
    }
   ],
   "source": [
    "arr = [1, 2, 3, 4, 5, 6]\n",
    "solution = [1, 3, 5, 2, 4, 6]\n",
    "\n",
    "head = create_linked_list(arr)\n",
    "test_case = [head, solution]\n",
    "test_function(test_case)"
   ]
  },
  {
   "cell_type": "code",
   "execution_count": 7,
   "metadata": {
    "graffitiCellId": "id_f2x6gq4"
   },
   "outputs": [
    {
     "name": "stdout",
     "output_type": "stream",
     "text": [
      "Pass\n"
     ]
    }
   ],
   "source": [
    "arr = [1, 3, 5, 7]\n",
    "solution = [1, 3, 5, 7]\n",
    "\n",
    "head = create_linked_list(arr)\n",
    "test_case = [head, solution]\n",
    "test_function(test_case)"
   ]
  },
  {
   "cell_type": "code",
   "execution_count": 8,
   "metadata": {
    "graffitiCellId": "id_ejterzp"
   },
   "outputs": [
    {
     "name": "stdout",
     "output_type": "stream",
     "text": [
      "Pass\n"
     ]
    }
   ],
   "source": [
    "arr = [2, 4, 6, 8]\n",
    "solution = [2, 4, 6, 8]\n",
    "head = create_linked_list(arr)\n",
    "test_case = [head, solution]\n",
    "test_function(test_case)"
   ]
  },
  {
   "cell_type": "code",
   "execution_count": null,
   "metadata": {
    "graffitiCellId": "id_l2tfj6q"
   },
   "outputs": [],
   "source": []
  }
 ],
 "metadata": {
  "graffiti": {
   "firstAuthorId": "dev",
   "id": "id_8zd3m5b",
   "language": "EN"
  },
  "kernelspec": {
   "display_name": "Python 3",
   "language": "python",
   "name": "python3"
  },
  "language_info": {
   "codemirror_mode": {
    "name": "ipython",
    "version": 3
   },
   "file_extension": ".py",
   "mimetype": "text/x-python",
   "name": "python",
   "nbconvert_exporter": "python",
   "pygments_lexer": "ipython3",
   "version": "3.6.3"
  }
 },
 "nbformat": 4,
 "nbformat_minor": 2
}
